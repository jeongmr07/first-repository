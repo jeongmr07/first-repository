{
 "cells": [
  {
   "cell_type": "markdown",
   "metadata": {},
   "source": [
    "# AIFFEL 1st Project : 가위바위보"
   ]
  },
  {
   "cell_type": "markdown",
   "metadata": {},
   "source": [
    "## 1-1. 데이터 Resize  \n",
    "- 원 데이터의 사이즈를 줄여주는 과정 (224x224 > 28x28)  \n",
    "- rock_scissor_paper 폴더 안의 모든 파일을 읽어 사이즈를 바꾸어 다시 저장한다.  \n",
    "    - for 문으로 바꿀 수 없나?"
   ]
  },
  {
   "cell_type": "code",
   "execution_count": 6,
   "metadata": {},
   "outputs": [
    {
     "name": "stdout",
     "output_type": "stream",
     "text": [
      "이미지 디렉토리 경로:  /home/aiffel/aiffel/train/rock_scissor_paper*/scissor\n",
      "이미지 디렉토리 경로:  /home/aiffel/aiffel/train/rock_scissor_paper*/rock\n",
      "이미지 디렉토리 경로:  /home/aiffel/aiffel/train/rock_scissor_paper*/paper\n",
      "모든 이미지 resize 완료!\n"
     ]
    }
   ],
   "source": [
    "# PIL 라이브러리가 설치되어 있지 않다면 설치\n",
    "# !pip install pillow   \n",
    "\n",
    "from PIL import Image\n",
    "import os, glob\n",
    "\n",
    "# 가위 이미지가 저장된 디렉토리 아래의 모든 jpg 파일을 읽어들여서\n",
    "image_dir_path = os.getenv(\"HOME\") + \"/aiffel/train/rock_scissor_paper*/scissor\"\n",
    "print(\"이미지 디렉토리 경로: \", image_dir_path)\n",
    "\n",
    "images=glob.glob(image_dir_path + \"/*.jpg\")  \n",
    "\n",
    "# 파일마다 모두 28x28 사이즈로 바꾸어 저장합니다.\n",
    "target_size=(28,28)\n",
    "for img in images:\n",
    "    old_img=Image.open(img)\n",
    "    new_img=old_img.resize(target_size,Image.ANTIALIAS)\n",
    "    new_img.save(img,\"JPEG\")\n",
    "    \n",
    "# 바위 이미지가 저장된 디렉토리 아래의 모든 jpg 파일을 읽어들여서\n",
    "image_dir_path = os.getenv(\"HOME\") + \"/aiffel/train/rock_scissor_paper*/rock\"\n",
    "print(\"이미지 디렉토리 경로: \", image_dir_path)\n",
    "\n",
    "images=glob.glob(image_dir_path + \"/*.jpg\") \n",
    "\n",
    "# 파일마다 모두 28x28 사이즈로 바꾸어 저장합니다.\n",
    "target_size=(28,28)\n",
    "for img in images:\n",
    "    old_img=Image.open(img)\n",
    "    new_img=old_img.resize(target_size,Image.ANTIALIAS)\n",
    "    new_img.save(img,\"JPEG\")\n",
    "\n",
    "# 보 이미지가 저장된 디렉토리 아래의 모든 jpg 파일을 읽어들여서\n",
    "image_dir_path = os.getenv(\"HOME\") + \"/aiffel/train/rock_scissor_paper*/paper\"\n",
    "print(\"이미지 디렉토리 경로: \", image_dir_path)\n",
    "\n",
    "images=glob.glob(image_dir_path + \"/*.jpg\") \n",
    "\n",
    "# 파일마다 모두 28x28 사이즈로 바꾸어 저장합니다.\n",
    "target_size=(28,28)\n",
    "for img in images:\n",
    "    old_img=Image.open(img)\n",
    "    new_img=old_img.resize(target_size,Image.ANTIALIAS)\n",
    "    new_img.save(img,\"JPEG\")\n",
    "\n",
    "print(\"모든 이미지 resize 완료!\")"
   ]
  },
  {
   "cell_type": "markdown",
   "metadata": {},
   "source": [
    "## 1-2. 가위바위보 이미지 불러오기 _ train set  \n",
    "- 처음 저장해두었던 train 데이터는 300개 (현재는 2100개) 의 데이터 불러오기"
   ]
  },
  {
   "cell_type": "code",
   "execution_count": 7,
   "metadata": {
    "scrolled": true
   },
   "outputs": [
    {
     "name": "stdout",
     "output_type": "stream",
     "text": [
      "학습데이터(x_train)의 이미지 개수는 300 입니다.\n",
      "x_train shape: (300, 28, 28, 3)\n",
      "y_train shape: (300,)\n"
     ]
    }
   ],
   "source": [
    "import tensorflow as tf\n",
    "from tensorflow import keras\n",
    "\n",
    "import numpy as np\n",
    "import matplotlib.pyplot as plt\n",
    "\n",
    "def load_data(img_path):\n",
    "    # 가위 : 0, 바위 : 1, 보 : 2\n",
    "    number_of_data=300   # 가위바위보 이미지 개수 총합에 주의하세요.\n",
    "    img_size=28\n",
    "    color=3\n",
    "    #이미지 데이터와 라벨(가위 : 0, 바위 : 1, 보 : 2) 데이터를 담을 행렬(matrix) 영역을 생성합니다.\n",
    "    imgs=np.zeros(number_of_data*img_size*img_size*color,dtype=np.int32).reshape(number_of_data,img_size,img_size,color)\n",
    "    labels=np.zeros(number_of_data,dtype=np.int32)\n",
    "\n",
    "    idx=0\n",
    "    for file in glob.iglob(img_path+'/scissor/*.jpg'):\n",
    "        img = np.array(Image.open(file),dtype=np.int32)\n",
    "        imgs[idx,:,:,:]=img    # 데이터 영역에 이미지 행렬을 복사\n",
    "        labels[idx]=0   # 가위 : 0\n",
    "        idx=idx+1\n",
    "\n",
    "    for file in glob.iglob(img_path+'/rock/*.jpg'):\n",
    "        img = np.array(Image.open(file),dtype=np.int32)\n",
    "        imgs[idx,:,:,:]=img    # 데이터 영역에 이미지 행렬을 복사\n",
    "        labels[idx]=1   # 바위 : 1\n",
    "        idx=idx+1       \n",
    "    \n",
    "    for file in glob.iglob(img_path+'/paper/*.jpg'):\n",
    "        img = np.array(Image.open(file),dtype=np.int32)\n",
    "        imgs[idx,:,:,:]=img    # 데이터 영역에 이미지 행렬을 복사\n",
    "        labels[idx]=2   # 보 : 2\n",
    "        idx=idx+1\n",
    "        \n",
    "    print(\"학습데이터(x_train)의 이미지 개수는\",idx,\"입니다.\")\n",
    "    return imgs, labels\n",
    "\n",
    "image_dir_path = os.getenv(\"HOME\") + \"/aiffel/train/rock_scissor_paper_0\"\n",
    "(x_train, y_train)=load_data(image_dir_path)\n",
    "x_train_norm = x_train/255.0   # 입력은 0~1 사이의 값으로 정규화\n",
    "\n",
    "print(\"x_train shape: {}\".format(x_train.shape))\n",
    "print(\"y_train shape: {}\".format(y_train.shape))"
   ]
  },
  {
   "cell_type": "code",
   "execution_count": 13,
   "metadata": {},
   "outputs": [
    {
     "data": {
      "image/png": "[encoded data removed]",
      "text/plain": [
       "<Figure size 432x288 with 1 Axes>"
      ]
     },
     "metadata": {
      "needs_background": "light"
     },
     "output_type": "display_data"
    }
   ],
   "source": [
    "# 데이터 확인하기 : 300장이므로 0~299 인덱스만 사용가능\n",
    "plt.imshow(x_train[299],cmap=plt.cm.binary)\n",
    "plt.show()"
   ]
  },
  {
   "cell_type": "markdown",
   "metadata": {},
   "source": [
    "## 1-3. 모델 만들고 학습시키기"
   ]
  },
  {
   "cell_type": "code",
   "execution_count": 1,
   "metadata": {},
   "outputs": [],
   "source": [
    "import tensorflow as tf\n",
    "from tensorflow import keras\n",
    "import numpy as np\n",
    "\n",
    "# model을 직접 만들어 보세요.\n",
    "# 하이퍼파라미터 설정\n",
    "n_channel_1=16\n",
    "n_channel_2=20\n",
    "n_dense=30\n",
    "n_train_epoch=35\n",
    "\n",
    "model=keras.models.Sequential()\n",
    "model.add(keras.layers.Conv2D(n_channel_1, (3,3), activation='relu', input_shape=(28,28,3))) # 컬러 이미지 ; shape 28x28x3\n",
    "model.add(keras.layers.MaxPool2D(2,2))\n",
    "model.add(keras.layers.Conv2D(n_channel_2, (3,3), activation='relu'))\n",
    "model.add(keras.layers.MaxPooling2D((2,2)))\n",
    "model.add(keras.layers.Flatten())\n",
    "model.add(keras.layers.Dense(n_dense, activation='relu'))\n",
    "model.add(keras.layers.Dense(3, activation='softmax')) # 데이터 라벨 3개 ; output 3개!"
   ]
  },
  {
   "cell_type": "code",
   "execution_count": 141,
   "metadata": {
    "scrolled": true
   },
   "outputs": [
    {
     "name": "stdout",
     "output_type": "stream",
     "text": [
      "Epoch 1/30\n",
      "10/10 [==============================] - 0s 2ms/step - loss: 27.0520 - accuracy: 0.3333\n",
      "Epoch 2/30\n",
      "10/10 [==============================] - 0s 2ms/step - loss: 5.2681 - accuracy: 0.4467\n",
      "Epoch 3/30\n",
      "10/10 [==============================] - 0s 2ms/step - loss: 2.3020 - accuracy: 0.5200\n",
      "Epoch 4/30\n",
      "10/10 [==============================] - 0s 2ms/step - loss: 1.4205 - accuracy: 0.6667\n",
      "Epoch 5/30\n",
      "10/10 [==============================] - 0s 2ms/step - loss: 0.7722 - accuracy: 0.7533\n",
      "Epoch 6/30\n",
      "10/10 [==============================] - 0s 2ms/step - loss: 0.4093 - accuracy: 0.8533\n",
      "Epoch 7/30\n",
      "10/10 [==============================] - 0s 2ms/step - loss: 0.3270 - accuracy: 0.8867\n",
      "Epoch 8/30\n",
      "10/10 [==============================] - 0s 2ms/step - loss: 0.2087 - accuracy: 0.9233\n",
      "Epoch 9/30\n",
      "10/10 [==============================] - 0s 2ms/step - loss: 0.1480 - accuracy: 0.9567\n",
      "Epoch 10/30\n",
      "10/10 [==============================] - 0s 2ms/step - loss: 0.0924 - accuracy: 0.9633\n",
      "Epoch 11/30\n",
      "10/10 [==============================] - 0s 2ms/step - loss: 0.1891 - accuracy: 0.9167\n",
      "Epoch 12/30\n",
      "10/10 [==============================] - 0s 2ms/step - loss: 0.1463 - accuracy: 0.9367\n",
      "Epoch 13/30\n",
      "10/10 [==============================] - 0s 2ms/step - loss: 0.1511 - accuracy: 0.9367\n",
      "Epoch 14/30\n",
      "10/10 [==============================] - 0s 2ms/step - loss: 0.0547 - accuracy: 0.9833\n",
      "Epoch 15/30\n",
      "10/10 [==============================] - 0s 2ms/step - loss: 0.0320 - accuracy: 0.9933\n",
      "Epoch 16/30\n",
      "10/10 [==============================] - 0s 2ms/step - loss: 0.0270 - accuracy: 0.9900\n",
      "Epoch 17/30\n",
      "10/10 [==============================] - 0s 2ms/step - loss: 0.0206 - accuracy: 0.9967\n",
      "Epoch 18/30\n",
      "10/10 [==============================] - 0s 1ms/step - loss: 0.0149 - accuracy: 0.9967\n",
      "Epoch 19/30\n",
      "10/10 [==============================] - 0s 2ms/step - loss: 0.0103 - accuracy: 1.0000\n",
      "Epoch 20/30\n",
      "10/10 [==============================] - 0s 2ms/step - loss: 0.0069 - accuracy: 1.0000\n",
      "Epoch 21/30\n",
      "10/10 [==============================] - 0s 2ms/step - loss: 0.0057 - accuracy: 1.0000\n",
      "Epoch 22/30\n",
      "10/10 [==============================] - 0s 2ms/step - loss: 0.0041 - accuracy: 1.0000\n",
      "Epoch 23/30\n",
      "10/10 [==============================] - 0s 2ms/step - loss: 0.0040 - accuracy: 1.0000\n",
      "Epoch 24/30\n",
      "10/10 [==============================] - 0s 2ms/step - loss: 0.0035 - accuracy: 1.0000\n",
      "Epoch 25/30\n",
      "10/10 [==============================] - 0s 2ms/step - loss: 0.0032 - accuracy: 1.0000\n",
      "Epoch 26/30\n",
      "10/10 [==============================] - 0s 2ms/step - loss: 0.0030 - accuracy: 1.0000\n",
      "Epoch 27/30\n",
      "10/10 [==============================] - 0s 2ms/step - loss: 0.0029 - accuracy: 1.0000\n",
      "Epoch 28/30\n",
      "10/10 [==============================] - 0s 2ms/step - loss: 0.0027 - accuracy: 1.0000\n",
      "Epoch 29/30\n",
      "10/10 [==============================] - 0s 2ms/step - loss: 0.0026 - accuracy: 1.0000\n",
      "Epoch 30/30\n",
      "10/10 [==============================] - 0s 2ms/step - loss: 0.0025 - accuracy: 1.0000\n"
     ]
    },
    {
     "data": {
      "text/plain": [
       "<tensorflow.python.keras.callbacks.History at 0x7fda007d0e50>"
      ]
     },
     "execution_count": 141,
     "metadata": {},
     "output_type": "execute_result"
    }
   ],
   "source": [
    "# model을 학습시키는 코드\n",
    "model.compile(optimizer='adam',\n",
    "             loss='sparse_categorical_crossentropy',\n",
    "             metrics=['accuracy'])\n",
    "\n",
    "# 모델 훈련\n",
    "model.fit(x_train, y_train, epochs=n_train_epoch)"
   ]
  },
  {
   "cell_type": "markdown",
   "metadata": {},
   "source": [
    "### <U>과적합(overfitting)</U>이 발생한 것으로 보인다."
   ]
  },
  {
   "cell_type": "markdown",
   "metadata": {},
   "source": [
    "## 1-4. 테스트 이미지 불러오기"
   ]
  },
  {
   "cell_type": "code",
   "execution_count": 24,
   "metadata": {},
   "outputs": [
    {
     "name": "stdout",
     "output_type": "stream",
     "text": [
      "데이터의 이미지 개수는 300 입니다.\n",
      "x_test shape: (300, 28, 28, 3)\n",
      "y_test shape: (300,)\n"
     ]
    }
   ],
   "source": [
    "# x_test, y_test를 만드는 방법은 x_train, y_train을 만드는 방법과 아주 유사합니다.\n",
    "# 파일 불러오기\n",
    "def load_data(img_path):\n",
    "    # 가위 : 0, 바위 : 1, 보 : 2\n",
    "    number_of_data=300   # 가위바위보 이미지 개수 총합에 주의하세요.\n",
    "    img_size=28\n",
    "    color=3\n",
    "    #이미지 데이터와 라벨(가위 : 0, 바위 : 1, 보 : 2) 데이터를 담을 행렬(matrix) 영역을 생성합니다.\n",
    "    imgs=np.zeros(number_of_data*img_size*img_size*color,dtype=np.int32).reshape(number_of_data,img_size,img_size,color)\n",
    "    labels=np.zeros(number_of_data,dtype=np.int32)\n",
    "\n",
    "    idx=0\n",
    "    for file in glob.iglob(img_path+'/scissor/*.jpg'):\n",
    "        img = np.array(Image.open(file),dtype=np.int32)\n",
    "        imgs[idx,:,:,:]=img    # 데이터 영역에 이미지 행렬을 복사\n",
    "        labels[idx]=0   # 가위 : 0\n",
    "        idx=idx+1\n",
    "\n",
    "    for file in glob.iglob(img_path+'/rock/*.jpg'):\n",
    "        img = np.array(Image.open(file),dtype=np.int32)\n",
    "        imgs[idx,:,:,:]=img    # 데이터 영역에 이미지 행렬을 복사\n",
    "        labels[idx]=1   # 바위 : 1\n",
    "        idx=idx+1       \n",
    "    \n",
    "    for file in glob.iglob(img_path+'/paper/*.jpg'):\n",
    "        img = np.array(Image.open(file),dtype=np.int32)\n",
    "        imgs[idx,:,:,:]=img    # 데이터 영역에 이미지 행렬을 복사\n",
    "        labels[idx]=2   # 보 : 2\n",
    "        idx=idx+1\n",
    "        \n",
    "    print(\"데이터의 이미지 개수는\",idx,\"입니다.\")\n",
    "    return imgs, labels\n",
    "image_dir_path = os.getenv(\"HOME\") + \"/aiffel/test/rock_scissor_paper\"\n",
    "(x_test_s, y_test_s)=load_data(image_dir_path)\n",
    "x_test_norm = x_test_s/255.0   # 입력은 0~1 사이의 값으로 정규화\n",
    "\n",
    "print(\"x_test shape: {}\".format(x_test_s.shape))\n",
    "print(\"y_test shape: {}\".format(y_test_s.shape))"
   ]
  },
  {
   "cell_type": "markdown",
   "metadata": {},
   "source": [
    "## 1-5. 모델 평가하기"
   ]
  },
  {
   "cell_type": "code",
   "execution_count": 142,
   "metadata": {},
   "outputs": [
    {
     "name": "stdout",
     "output_type": "stream",
     "text": [
      "10/10 - 0s - loss: 17.4621 - accuracy: 0.4000\n",
      "test_loss: 17.46211814880371 \n",
      "test_accuracy: 0.4000000059604645\n"
     ]
    }
   ],
   "source": [
    "test_loss, test_accuracy = model.evaluate(x_test,y_test, verbose=2)\n",
    "print(\"test_loss: {} \".format(test_loss))\n",
    "print(\"test_accuracy: {}\".format(test_accuracy))"
   ]
  },
  {
   "cell_type": "markdown",
   "metadata": {},
   "source": [
    "하이퍼파라미터(n_channel_1, n_channel_2, n_dense, n_train_epoch)를 조절해도 테스트 정확도가 30% 안팎으로 도출되어 ***학습데이터에 문제가 있다*** 판단.\n",
    "> 학습데이터 수가 적다.  \n",
    "> 학습데이터의 퀄리티가 좋지 않다.\n",
    "\n",
    "AIFFEL 학생분들의 데이터를 모아 다시 학습시켜보려 한다. 다운받은 데이터를 train 폴더에 넣은 후 다시 모델 학습하였다."
   ]
  },
  {
   "cell_type": "markdown",
   "metadata": {},
   "source": [
    "## 2-2. 다시 데이터 모으기\n",
    "- 다운로드한 데이터를 train set 폴더에 넣었다. 코드 수정을 적게 하려고 rock_scissor_paper 공통된 이름의 폴더의 데이터만 추가했다.  \n",
    "    - 이름 상관없이 데이터 추가하는 법이 있는지 찾아보기  \n",
    "- 데이터 개수가 달라 load_data_train으로 함수 이름을 수정하였다.  \n",
    "    - 데이터 개수 상관없이 불러 올 수 있는 방법은 없나?\n",
    "    \n",
    "<img src=\"Pictures/trainingset.png\" width=\"700px\" height=\"400px\"></img><br/>"
   ]
  },
  {
   "cell_type": "code",
   "execution_count": 12,
   "metadata": {},
   "outputs": [
    {
     "name": "stdout",
     "output_type": "stream",
     "text": [
      "학습데이터(x_train)의 이미지 개수는 3300 입니다.\n",
      "x_train shape: (3300, 28, 28, 3)\n",
      "y_train shape: (3300,)\n"
     ]
    }
   ],
   "source": [
    "import tensorflow as tf\n",
    "from tensorflow import keras\n",
    "\n",
    "import numpy as np\n",
    "import matplotlib.pyplot as plt\n",
    "\n",
    "def load_data_train(img_path):\n",
    "    # 가위 : 0, 바위 : 1, 보 : 2\n",
    "    number_of_data=3300   # 가위바위보 이미지 개수 총합에 주의하세요. 모은 데이터 개수\n",
    "    img_size=28\n",
    "    color=3\n",
    "    #이미지 데이터와 라벨(가위 : 0, 바위 : 1, 보 : 2) 데이터를 담을 행렬(matrix) 영역을 생성합니다.\n",
    "    imgs=np.zeros(number_of_data*img_size*img_size*color,dtype=np.int32).reshape(number_of_data,img_size,img_size,color)\n",
    "    labels=np.zeros(number_of_data,dtype=np.int32)\n",
    "\n",
    "    idx=0\n",
    "    for file in glob.iglob(img_path+'/scissor/*.jpg'):\n",
    "        img = np.array(Image.open(file),dtype=np.int32)\n",
    "        imgs[idx,:,:,:]=img    # 데이터 영역에 이미지 행렬을 복사\n",
    "        labels[idx]=0   # 가위 : 0\n",
    "        idx=idx+1\n",
    "\n",
    "    for file in glob.iglob(img_path+'/rock/*.jpg'):\n",
    "        img = np.array(Image.open(file),dtype=np.int32)\n",
    "        imgs[idx,:,:,:]=img    # 데이터 영역에 이미지 행렬을 복사\n",
    "        labels[idx]=1   # 바위 : 1\n",
    "        idx=idx+1       \n",
    "    \n",
    "    for file in glob.iglob(img_path+'/paper/*.jpg'):\n",
    "        img = np.array(Image.open(file),dtype=np.int32)\n",
    "        imgs[idx,:,:,:]=img    # 데이터 영역에 이미지 행렬을 복사\n",
    "        labels[idx]=2   # 보 : 2\n",
    "        idx=idx+1\n",
    "        \n",
    "    print(\"학습데이터(x_train)의 이미지 개수는\",idx,\"입니다.\")\n",
    "    return imgs, labels\n",
    "\n",
    "image_dir_path = os.getenv(\"HOME\") + \"/aiffel/train/rock_scissor_paper*\"\n",
    "(x_train, y_train)=load_data_train(image_dir_path)\n",
    "x_train_norm = x_train/255.0   # 입력은 0~1 사이의 값으로 정규화\n",
    "\n",
    "print(\"x_train shape: {}\".format(x_train.shape))\n",
    "print(\"y_train shape: {}\".format(y_train.shape))"
   ]
  },
  {
   "cell_type": "markdown",
   "metadata": {},
   "source": [
    "## 2-3. 새로운 학습 데이터로 모델 학습 및 평가하기"
   ]
  },
  {
   "cell_type": "code",
   "execution_count": 45,
   "metadata": {},
   "outputs": [
    {
     "name": "stdout",
     "output_type": "stream",
     "text": [
      "Epoch 1/25\n",
      "104/104 [==============================] - 0s 1ms/step - loss: 2.9532 - accuracy: 0.5224\n",
      "Epoch 2/25\n",
      "104/104 [==============================] - 0s 1ms/step - loss: 0.6200 - accuracy: 0.7409\n",
      "Epoch 3/25\n",
      "104/104 [==============================] - 0s 1ms/step - loss: 0.4099 - accuracy: 0.8409\n",
      "Epoch 4/25\n",
      "104/104 [==============================] - 0s 1ms/step - loss: 0.2844 - accuracy: 0.8927\n",
      "Epoch 5/25\n",
      "104/104 [==============================] - 0s 1ms/step - loss: 0.2190 - accuracy: 0.9209\n",
      "Epoch 6/25\n",
      "104/104 [==============================] - 0s 1ms/step - loss: 0.1482 - accuracy: 0.9458\n",
      "Epoch 7/25\n",
      "104/104 [==============================] - 0s 1ms/step - loss: 0.1311 - accuracy: 0.9527\n",
      "Epoch 8/25\n",
      "104/104 [==============================] - 0s 2ms/step - loss: 0.1127 - accuracy: 0.9633\n",
      "Epoch 9/25\n",
      "104/104 [==============================] - 0s 1ms/step - loss: 0.1463 - accuracy: 0.9476\n",
      "Epoch 10/25\n",
      "104/104 [==============================] - 0s 2ms/step - loss: 0.0753 - accuracy: 0.9739\n",
      "Epoch 11/25\n",
      "104/104 [==============================] - 0s 1ms/step - loss: 0.0747 - accuracy: 0.9742\n",
      "Epoch 12/25\n",
      "104/104 [==============================] - 0s 1ms/step - loss: 0.0560 - accuracy: 0.9848\n",
      "Epoch 13/25\n",
      "104/104 [==============================] - 0s 2ms/step - loss: 0.0911 - accuracy: 0.9697\n",
      "Epoch 14/25\n",
      "104/104 [==============================] - 0s 1ms/step - loss: 0.0514 - accuracy: 0.9815\n",
      "Epoch 15/25\n",
      "104/104 [==============================] - 0s 1ms/step - loss: 0.0328 - accuracy: 0.9918\n",
      "Epoch 16/25\n",
      "104/104 [==============================] - 0s 2ms/step - loss: 0.0235 - accuracy: 0.9930\n",
      "Epoch 17/25\n",
      "104/104 [==============================] - 0s 1ms/step - loss: 0.0771 - accuracy: 0.9733\n",
      "Epoch 18/25\n",
      "104/104 [==============================] - 0s 1ms/step - loss: 0.0462 - accuracy: 0.9876\n",
      "Epoch 19/25\n",
      "104/104 [==============================] - 0s 2ms/step - loss: 0.0723 - accuracy: 0.9758\n",
      "Epoch 20/25\n",
      "104/104 [==============================] - 0s 1ms/step - loss: 0.1195 - accuracy: 0.9682\n",
      "Epoch 21/25\n",
      "104/104 [==============================] - 0s 1ms/step - loss: 0.0875 - accuracy: 0.9800\n",
      "Epoch 22/25\n",
      "104/104 [==============================] - 0s 2ms/step - loss: 0.0424 - accuracy: 0.9855\n",
      "Epoch 23/25\n",
      "104/104 [==============================] - 0s 1ms/step - loss: 0.0492 - accuracy: 0.9852\n",
      "Epoch 24/25\n",
      "104/104 [==============================] - 0s 1ms/step - loss: 0.0142 - accuracy: 0.9961\n",
      "Epoch 25/25\n",
      "104/104 [==============================] - 0s 2ms/step - loss: 0.0096 - accuracy: 0.9985\n"
     ]
    },
    {
     "data": {
      "text/plain": [
       "<tensorflow.python.keras.callbacks.History at 0x7f548878a150>"
      ]
     },
     "execution_count": 45,
     "metadata": {},
     "output_type": "execute_result"
    }
   ],
   "source": [
    "import tensorflow as tf\n",
    "from tensorflow import keras\n",
    "import numpy as np\n",
    "\n",
    "# model을 직접 만들어 보세요. 16, 32, 30, 20\n",
    "n_channel_1=16\n",
    "n_channel_2=48\n",
    "n_dense=50\n",
    "n_train_epoch=25\n",
    "\n",
    "model=keras.models.Sequential()\n",
    "model.add(keras.layers.Conv2D(n_channel_1, (3,3), activation='relu', input_shape=(28,28,3))) # 컬러 이미지 ; shape 28x28x3\n",
    "model.add(keras.layers.MaxPool2D(2,2))\n",
    "model.add(keras.layers.Conv2D(n_channel_2, (3,3), activation='relu'))\n",
    "model.add(keras.layers.MaxPooling2D((2,2)))\n",
    "model.add(keras.layers.Flatten())\n",
    "model.add(keras.layers.Dense(n_dense, activation='relu'))\n",
    "model.add(keras.layers.Dense(3, activation='softmax')) # 데이터 라벨 3개 ; output 3개!\n",
    "\n",
    "# model을 학습시키는 코드\n",
    "model.compile(optimizer='adam',\n",
    "             loss='sparse_categorical_crossentropy',\n",
    "             metrics=['accuracy'])\n",
    "\n",
    "# 모델 훈련\n",
    "model.fit(x_train, y_train, epochs=n_train_epoch)\n",
    "\n",
    "# 모델 평가 : 데이터 300 개\n",
    "# test_loss, test_accuracy = model.evaluate(x_test_s,y_test_s, verbose=2)\n",
    "# print(\"test_loss: {} \".format(test_loss))\n",
    "# print(\"test_accuracy: {}\".format(test_accuracy))"
   ]
  },
  {
   "cell_type": "markdown",
   "metadata": {},
   "source": [
    "이전보다 나아진 것을 볼 수 있다.   \n",
    "하지만  \n",
    "> 하이퍼파라미터 조절마다 발생하는 정확도 차이.  \n",
    "> 트레이닝 중, 정확도의 작은 변동이 있다.  \n",
    "\n",
    "라고 생각되어 테스트 데이터를 덧붙여 평가를 시도했다.  \n",
    "학습데이터셋과 테스트데이터셋의 개수 차이가 있어 함수를 다르게 두어(load_data_test) 데이터를 불러왔다."
   ]
  },
  {
   "cell_type": "code",
   "execution_count": 22,
   "metadata": {},
   "outputs": [
    {
     "name": "stdout",
     "output_type": "stream",
     "text": [
      "데이터의 이미지 개수는 600 입니다.\n",
      "x_test shape: (600, 28, 28, 3)\n",
      "y_test shape: (600,)\n"
     ]
    }
   ],
   "source": [
    "# x_test, y_test를 만드는 방법은 x_train, y_train을 만드는 방법과 아주 유사합니다.\n",
    "# 파일 불러오기\n",
    "def load_data_test(img_path):\n",
    "    # 가위 : 0, 바위 : 1, 보 : 2\n",
    "    number_of_data=600   # 가위바위보 이미지 개수 총합에 주의하세요.\n",
    "    img_size=28\n",
    "    color=3\n",
    "    #이미지 데이터와 라벨(가위 : 0, 바위 : 1, 보 : 2) 데이터를 담을 행렬(matrix) 영역을 생성합니다.\n",
    "    imgs=np.zeros(number_of_data*img_size*img_size*color,dtype=np.int32).reshape(number_of_data,img_size,img_size,color)\n",
    "    labels=np.zeros(number_of_data,dtype=np.int32)\n",
    "\n",
    "    idx=0\n",
    "    for file in glob.iglob(img_path+'/scissor/*.jpg'):\n",
    "        img = np.array(Image.open(file),dtype=np.int32)\n",
    "        imgs[idx,:,:,:]=img    # 데이터 영역에 이미지 행렬을 복사\n",
    "        labels[idx]=0   # 가위 : 0\n",
    "        idx=idx+1\n",
    "\n",
    "    for file in glob.iglob(img_path+'/rock/*.jpg'):\n",
    "        img = np.array(Image.open(file),dtype=np.int32)\n",
    "        imgs[idx,:,:,:]=img    # 데이터 영역에 이미지 행렬을 복사\n",
    "        labels[idx]=1   # 바위 : 1\n",
    "        idx=idx+1       \n",
    "    \n",
    "    for file in glob.iglob(img_path+'/paper/*.jpg'):\n",
    "        img = np.array(Image.open(file),dtype=np.int32)\n",
    "        imgs[idx,:,:,:]=img    # 데이터 영역에 이미지 행렬을 복사\n",
    "        labels[idx]=2   # 보 : 2\n",
    "        idx=idx+1\n",
    "        \n",
    "    print(\"데이터의 이미지 개수는\",idx,\"입니다.\")\n",
    "    return imgs, labels\n",
    "image_dir_path = os.getenv(\"HOME\") + \"/aiffel/test/rock_scissor_paper*\"\n",
    "(x_test, y_test)=load_data_test(image_dir_path)\n",
    "x_test_norm = x_test/255.0   # 입력은 0~1 사이의 값으로 정규화\n",
    "\n",
    "print(\"x_test shape: {}\".format(x_test.shape))\n",
    "print(\"y_test shape: {}\".format(y_test.shape))"
   ]
  },
  {
   "cell_type": "code",
   "execution_count": 46,
   "metadata": {},
   "outputs": [
    {
     "name": "stdout",
     "output_type": "stream",
     "text": [
      "10/10 - 1s - loss: 0.0021 - accuracy: 1.0000\n",
      "test_loss: 0.002138259122148156 \n",
      "test_accuracy: 1.0\n",
      "19/19 - 1s - loss: 0.2672 - accuracy: 0.9467\n",
      "test_loss: 0.26716357469558716 \n",
      "test_accuracy: 0.9466666579246521\n"
     ]
    }
   ],
   "source": [
    "# 300 개의 테스트 데이터\n",
    "test_loss, test_accuracy = model.evaluate(x_test_s,y_test_s, verbose=2)\n",
    "print(\"test_loss: {} \".format(test_loss))\n",
    "print(\"test_accuracy: {}\".format(test_accuracy))\n",
    "\n",
    "# 600 개의 테스트 데이터\n",
    "test_loss, test_accuracy = model.evaluate(x_test,y_test, verbose=2)\n",
    "print(\"test_loss: {} \".format(test_loss))\n",
    "print(\"test_accuracy: {}\".format(test_accuracy))"
   ]
  },
  {
   "cell_type": "markdown",
   "metadata": {},
   "source": [
    "테스트 데이터가 많을 수록 정확도는 점차 떨어지는 것을 볼 수 있다."
   ]
  },
  {
   "cell_type": "markdown",
   "metadata": {},
   "source": [
    "### 마무리\n",
    "2020.01.06.WED\n",
    "- 300장의 학습 데이터을 바탕으로 한 모델 학습에서 하이퍼파라미터 조절 시, 자칫 과적합(overfitting) 정도를 파악하기 힘들었다. 조금의 조절에서도 과적합으로 보이는 결과가 나왔다. 과적합이 아닌 경우에도 학습만 잘 될 뿐, ***모델 성능 테스트에서 3-40%의 낮은 성능의 결과***를 낳았다. 하이퍼파라미터 조절로도 50% 근방의 성능도 얻지 못했다. <u>이로서, 학습 데이터에 문제가 있다고 보고 AIFFEL 학생분들이 공유해주신 데이터를 모아 모델 학습과 테스트를 다시 진행하였다.</u>\n",
    "- 다시 진행해 본 과정에서 **학습 데이터 2100개와 테스트 데이터 300개**로 진행하였다. 모델을 만드는 과정은 똑같이 수행하고, 하이퍼파라미터만 조절했다. 전 과정보다 과적합의 경우가 현저히 줄었다. 학습 중 꾸준히 증가세를 보이긴 하지만 2% 안팎의 학습 성능 변동이 있었다. 학습된 모델로 테스트를 진행하였을 때, **100%**의 성능을 얻었지만! 모델이 좋아서 성능이 좋다고 판단하기 힘들었다.\n",
    "- 테스트 데이터가 더 많아지면 테스트 성능도 떨어질 것이라는 예상으로 **테스트 테이터 600개**로 같은 과정을 진행했다. 좋은 모델이라면 성능 차이가 그렇게 크지 않을 것이라 생각했으나, loss는 100배 더 크게, 성능은 약 6% 가량 낮은 결과를 보였다. 하이퍼파라미터를 더 조절해 테스트 개수가 많더라도 성능 차이를 줄일 수 있을 것이다. 하지만 학습 데이터가 많을 수록 모델 학습 및 성능이 좋아지는 것은 분명하다.\n",
    "    - 현재 하이퍼파라미터; n_channel_1=16, n_channel_2=48, n_dense=50, n_train_epoch=25\n"
   ]
  }
 ],
 "metadata": {
  "kernelspec": {
   "display_name": "Python 3",
   "language": "python",
   "name": "python3"
  },
  "language_info": {
   "codemirror_mode": {
    "name": "ipython",
    "version": 3
   },
   "file_extension": ".py",
   "mimetype": "text/x-python",
   "name": "python",
   "nbconvert_exporter": "python",
   "pygments_lexer": "ipython3",
   "version": "3.7.9"
  }
 },
 "nbformat": 4,
 "nbformat_minor": 4
}
